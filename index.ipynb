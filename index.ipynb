{
 "cells": [
  {
   "cell_type": "markdown",
   "id": "0c8b497f-1763-4341-99e3-a3f67a44ecf0",
   "metadata": {},
   "source": [
    "# Ejercicio 1"
   ]
  },
  {
   "cell_type": "markdown",
   "id": "1098a2b4-7039-4301-8ef7-94ad7e54251a",
   "metadata": {},
   "source": [
    "# Minimizar el costo de los suplementos Vega Vita y Happy Health"
   ]
  },
  {
   "cell_type": "code",
   "execution_count": 1,
   "id": "ba929ffb-2369-4134-9771-84b7c9fc8917",
   "metadata": {},
   "outputs": [],
   "source": [
    "import pulp as pp\n"
   ]
  },
  {
   "cell_type": "markdown",
   "id": "43b0d62a-4368-45e2-8209-51c77db0d4fa",
   "metadata": {},
   "source": [
    "Queremos minimizar el costo de los suplementos."
   ]
  },
  {
   "cell_type": "code",
   "execution_count": 50,
   "id": "893c7133-9681-4b6c-b9be-d8773bad9c49",
   "metadata": {},
   "outputs": [],
   "source": [
    "model = pp.LpProblem(name='supplement-problem', sense=pp.LpMinimize)"
   ]
  },
  {
   "cell_type": "code",
   "execution_count": 52,
   "id": "0f043740-1fd4-484f-bae2-4cc56ea8415c",
   "metadata": {},
   "outputs": [],
   "source": [
    "VegaVita = pp.LpVariable(name=\"VegaVita\", lowBound=0, cat='Continuous')\n",
    "HappyHealth = pp.LpVariable(name=\"HappyHealth\", lowBound=0, cat='Continuous')"
   ]
  },
  {
   "cell_type": "markdown",
   "id": "1ebe6a0e-5902-43c6-8978-92721890eda4",
   "metadata": {},
   "source": [
    "Definir la Función Objetivo"
   ]
  },
  {
   "cell_type": "code",
   "execution_count": 54,
   "id": "85dc3003-4ccd-4302-aac2-3fb7f59e036a",
   "metadata": {},
   "outputs": [],
   "source": [
    "obj_func = 0.2 * VegaVita + 0.3 * HappyHealth\n"
   ]
  },
  {
   "cell_type": "markdown",
   "id": "14ea2937-4973-4886-81db-32f41ae6981e",
   "metadata": {},
   "source": [
    "Vitamina C: 20 mg por pastilla de Vega Vita, 30 mg por pastilla de Happy Health. Necesitamos al menos 60 mg."
   ]
  },
  {
   "cell_type": "code",
   "execution_count": 57,
   "id": "3d9a342f-d522-4873-b992-fff999345d57",
   "metadata": {},
   "outputs": [],
   "source": [
    "C1 = pp.LpConstraint(name='Vitamin_C_Constraint', e=20 * VegaVita + 30 * HappyHealth, rhs=60, sense=pp.LpConstraintGE)\n"
   ]
  },
  {
   "cell_type": "markdown",
   "id": "8679e9f0-3fd9-4824-9336-a20dec00b5bd",
   "metadata": {},
   "source": [
    "Calcio: 500 mg por pastilla de Vega Vita, 250 mg por pastilla de Happy Health. Necesitamos al menos 1000 mg."
   ]
  },
  {
   "cell_type": "code",
   "execution_count": 60,
   "id": "f89670c6-f71e-4a01-b226-fda07f21c44c",
   "metadata": {},
   "outputs": [],
   "source": [
    "C2 = pp.LpConstraint(name='Calcium_Constraint', e=500 * VegaVita + 250 * HappyHealth, rhs=1000, sense=pp.LpConstraintGE)\n"
   ]
  },
  {
   "cell_type": "markdown",
   "id": "0669528b-d2ab-430a-bc8f-1a5fbf647f28",
   "metadata": {},
   "source": [
    "Hierro: 9 mg por pastilla de Vega Vita, 2 mg por pastilla de Happy Health. Necesitamos al menos 18 mg."
   ]
  },
  {
   "cell_type": "code",
   "execution_count": 63,
   "id": "f84309db-584d-4511-bd4e-e9a43dbd8c7a",
   "metadata": {},
   "outputs": [],
   "source": [
    "C3 = pp.LpConstraint(name='Iron_Constraint', e=9 * VegaVita + 2 * HappyHealth, rhs=18, sense=pp.LpConstraintGE)\n"
   ]
  },
  {
   "cell_type": "markdown",
   "id": "44fbf567-2588-48f2-9c14-e313d62a793e",
   "metadata": {},
   "source": [
    "Niacina: 2 mg por pastilla de Vega Vita, 10 mg por pastilla de Happy Health. Necesitamos al menos 20 mg."
   ]
  },
  {
   "cell_type": "code",
   "execution_count": 66,
   "id": "1bef935a-a318-45fe-b4f6-3e6c1aac578f",
   "metadata": {},
   "outputs": [],
   "source": [
    "C4 = pp.LpConstraint(name='Niacin_Constraint', e=2 * VegaVita + 10 * HappyHealth, rhs=20, sense=pp.LpConstraintGE)\n"
   ]
  },
  {
   "cell_type": "markdown",
   "id": "870e54a7-2ab4-491c-9ff9-f582d12d6001",
   "metadata": {},
   "source": [
    "Magnesio: 60 mg por pastilla de Vega Vita, 90 mg por pastilla de Happy Health. Necesitamos al menos 360 mg."
   ]
  },
  {
   "cell_type": "code",
   "execution_count": 69,
   "id": "1fbd147a-6da0-4577-b9e5-f80d169a05c0",
   "metadata": {},
   "outputs": [],
   "source": [
    "C5 = pp.LpConstraint(name='Magnesium_Constraint', e=60 * VegaVita + 90 * HappyHealth, rhs=360, sense=pp.LpConstraintGE)\n"
   ]
  },
  {
   "cell_type": "code",
   "execution_count": 71,
   "id": "b7d2d537-b929-4b5d-a38b-86519021f9b6",
   "metadata": {},
   "outputs": [],
   "source": [
    "model += obj_func\n",
    "model += C1\n",
    "model += C2\n",
    "model += C3\n",
    "model += C4\n",
    "model += C5\n"
   ]
  },
  {
   "cell_type": "code",
   "execution_count": 73,
   "id": "f0c7e2b9-4194-49fd-a91b-fc697bdb2979",
   "metadata": {},
   "outputs": [
    {
     "data": {
      "text/plain": [
       "1"
      ]
     },
     "execution_count": 73,
     "metadata": {},
     "output_type": "execute_result"
    }
   ],
   "source": [
    "solverToUse = pp.PULP_CBC_CMD(msg=False)\n",
    "model.solve(solver=solverToUse)"
   ]
  },
  {
   "cell_type": "code",
   "execution_count": 75,
   "id": "e218bff7-a93e-48ff-bb36-758efd3644b1",
   "metadata": {},
   "outputs": [
    {
     "data": {
      "text/html": [
       "<style type=\"text/css\">\n",
       "</style>\n",
       "<table id=\"T_9653a\">\n",
       "  <thead>\n",
       "    <tr>\n",
       "      <th class=\"blank level0\" >&nbsp;</th>\n",
       "      <th id=\"T_9653a_level0_col0\" class=\"col_heading level0 col0\" >Optimal Solution</th>\n",
       "      <th id=\"T_9653a_level0_col1\" class=\"col_heading level0 col1\" >HappyHealth</th>\n",
       "      <th id=\"T_9653a_level0_col2\" class=\"col_heading level0 col2\" >VegaVita</th>\n",
       "    </tr>\n",
       "    <tr>\n",
       "      <th class=\"index_name level0\" >Model Status</th>\n",
       "      <th class=\"blank col0\" >&nbsp;</th>\n",
       "      <th class=\"blank col1\" >&nbsp;</th>\n",
       "      <th class=\"blank col2\" >&nbsp;</th>\n",
       "    </tr>\n",
       "  </thead>\n",
       "  <tbody>\n",
       "    <tr>\n",
       "      <th id=\"T_9653a_level0_row0\" class=\"row_heading level0 row0\" >Optimal</th>\n",
       "      <td id=\"T_9653a_row0_col0\" class=\"data row0 col0\" >1.20</td>\n",
       "      <td id=\"T_9653a_row0_col1\" class=\"data row0 col1\" >3.13</td>\n",
       "      <td id=\"T_9653a_row0_col2\" class=\"data row0 col2\" >1.30</td>\n",
       "    </tr>\n",
       "  </tbody>\n",
       "</table>\n"
      ],
      "text/plain": [
       "<pandas.io.formats.style.Styler at 0x1852cbd3cb0>"
      ]
     },
     "execution_count": 75,
     "metadata": {},
     "output_type": "execute_result"
    }
   ],
   "source": [
    "import pandas as pd\n",
    "Results = {\"Model Status\": pp.LpStatus[model.status]}\n",
    "Results.update({\"Optimal Solution\": pp.value(model.objective)})\n",
    "Results.update({v.name: v.varValue for v in model.variables()})\n",
    "pd.DataFrame.from_dict(Results, orient='index').T.set_index('Model Status').style.format('{:,.2f}')"
   ]
  },
  {
   "cell_type": "markdown",
   "id": "3131eff0-55e0-44a3-9f8b-bd5e0bd7805a",
   "metadata": {},
   "source": [
    "El resultado indica que se debe combinar ambos suplementos para satisfacer las necesidades nutricionales de la manera más económica posible. En este caso, debes adquirir 3.13 tabletas de Happy Health y 1.30 tabletas de Vega Vita. Dado que los suplementos normalmente vienen en cantidades enteras, puede ser necesario redondear los valores "
   ]
  },
  {
   "cell_type": "markdown",
   "id": "4fb01515-caef-4982-9736-756f701fd1e2",
   "metadata": {},
   "source": [
    "# Redondeo"
   ]
  },
  {
   "cell_type": "code",
   "execution_count": 79,
   "id": "419264ed-cd4c-48b0-95d0-a7d834560ada",
   "metadata": {},
   "outputs": [],
   "source": [
    "VegaVita = pp.LpVariable(name=\"VegaVita\", lowBound=0, cat='Integer')\n",
    "HappyHealth = pp.LpVariable(name=\"HappyHealth\", lowBound=0, cat='Integer')\n"
   ]
  },
  {
   "cell_type": "code",
   "execution_count": 81,
   "id": "05b3ee48-77b3-4244-ba13-5ae844e22ac5",
   "metadata": {},
   "outputs": [],
   "source": [
    "model = pp.LpProblem(name='supplement-problem', sense=pp.LpMinimize)\n"
   ]
  },
  {
   "cell_type": "code",
   "execution_count": 83,
   "id": "e2160138-1e17-4769-aa24-733bafa827f3",
   "metadata": {},
   "outputs": [],
   "source": [
    "VegaVita = pp.LpVariable(name=\"VegaVita\", lowBound=0, cat='Integer')\n",
    "HappyHealth = pp.LpVariable(name=\"HappyHealth\", lowBound=0, cat='Integer')\n"
   ]
  },
  {
   "cell_type": "code",
   "execution_count": 85,
   "id": "2ad0101a-462d-4b44-8cdf-7fed5eac9e77",
   "metadata": {},
   "outputs": [],
   "source": [
    "obj_func = 0.2 * VegaVita + 0.3 * HappyHealth\n"
   ]
  },
  {
   "cell_type": "code",
   "execution_count": 87,
   "id": "d7c2b231-985f-4ad3-b350-b97779d40a5b",
   "metadata": {},
   "outputs": [],
   "source": [
    "C1 = pp.LpConstraint(name='Vitamin_C_Constraint', e=20 * VegaVita + 30 * HappyHealth, rhs=60, sense=pp.LpConstraintGE)\n",
    "C2 = pp.LpConstraint(name='Calcium_Constraint', e=500 * VegaVita + 250 * HappyHealth, rhs=1000, sense=pp.LpConstraintGE)\n",
    "C3 = pp.LpConstraint(name='Iron_Constraint', e=9 * VegaVita + 2 * HappyHealth, rhs=18, sense=pp.LpConstraintGE)\n",
    "C4 = pp.LpConstraint(name='Niacin_Constraint', e=2 * VegaVita + 10 * HappyHealth, rhs=20, sense=pp.LpConstraintGE)\n",
    "C5 = pp.LpConstraint(name='Magnesium_Constraint', e=60 * VegaVita + 90 * HappyHealth, rhs=360, sense=pp.LpConstraintGE)"
   ]
  },
  {
   "cell_type": "code",
   "execution_count": 89,
   "id": "95375d2b-2a49-4ace-8c0d-2505cff98f08",
   "metadata": {},
   "outputs": [],
   "source": [
    "model += obj_func\n",
    "model += C1\n",
    "model += C2\n",
    "model += C3\n",
    "model += C4\n",
    "model += C5"
   ]
  },
  {
   "cell_type": "code",
   "execution_count": 91,
   "id": "ca69b0b9-3d9d-4b05-9a12-468d564f99d9",
   "metadata": {},
   "outputs": [
    {
     "data": {
      "text/plain": [
       "1"
      ]
     },
     "execution_count": 91,
     "metadata": {},
     "output_type": "execute_result"
    }
   ],
   "source": [
    "solverToUse = pp.PULP_CBC_CMD(msg=False)\n",
    "model.solve(solver=solverToUse)"
   ]
  },
  {
   "cell_type": "code",
   "execution_count": 93,
   "id": "d19b933d-a298-481f-bc3f-b7f6b6212cf3",
   "metadata": {},
   "outputs": [
    {
     "data": {
      "text/html": [
       "<style type=\"text/css\">\n",
       "</style>\n",
       "<table id=\"T_96a9e\">\n",
       "  <thead>\n",
       "    <tr>\n",
       "      <th class=\"blank level0\" >&nbsp;</th>\n",
       "      <th id=\"T_96a9e_level0_col0\" class=\"col_heading level0 col0\" >Optimal Solution</th>\n",
       "      <th id=\"T_96a9e_level0_col1\" class=\"col_heading level0 col1\" >HappyHealth</th>\n",
       "      <th id=\"T_96a9e_level0_col2\" class=\"col_heading level0 col2\" >VegaVita</th>\n",
       "    </tr>\n",
       "    <tr>\n",
       "      <th class=\"index_name level0\" >Model Status</th>\n",
       "      <th class=\"blank col0\" >&nbsp;</th>\n",
       "      <th class=\"blank col1\" >&nbsp;</th>\n",
       "      <th class=\"blank col2\" >&nbsp;</th>\n",
       "    </tr>\n",
       "  </thead>\n",
       "  <tbody>\n",
       "    <tr>\n",
       "      <th id=\"T_96a9e_level0_row0\" class=\"row_heading level0 row0\" >Optimal</th>\n",
       "      <td id=\"T_96a9e_row0_col0\" class=\"data row0 col0\" >1.20</td>\n",
       "      <td id=\"T_96a9e_row0_col1\" class=\"data row0 col1\" >2.00</td>\n",
       "      <td id=\"T_96a9e_row0_col2\" class=\"data row0 col2\" >3.00</td>\n",
       "    </tr>\n",
       "  </tbody>\n",
       "</table>\n"
      ],
      "text/plain": [
       "<pandas.io.formats.style.Styler at 0x1852cbd1fa0>"
      ]
     },
     "execution_count": 93,
     "metadata": {},
     "output_type": "execute_result"
    }
   ],
   "source": [
    "Results = {\"Model Status\": pp.LpStatus[model.status]}\n",
    "Results.update({\"Optimal Solution\": pp.value(model.objective)})\n",
    "Results.update({v.name: v.varValue for v in model.variables()})\n",
    "pd.DataFrame.from_dict(Results, orient='index').T.set_index('Model Status').style.format('{:,.2f}')"
   ]
  },
  {
   "cell_type": "markdown",
   "id": "4291ef0f-706d-41b0-9101-168e49e7c012",
   "metadata": {},
   "source": [
    "Se obtiene una solución óptima que minimiza el costo a 1.20 dólares diarios, cumpliendo con todos los requisitos nutricionales. Para lograrlo, se deben consumir 3 tabletas de Happy Health y 3 tabletas de Vega Vita al día, garantizando una solución práctica donde las cantidades de tabletas son enteras. Este ajuste asegura que los requerimientos de vitamina C, calcio, hierro, niacina y magnesio se cumplen sin la necesidad de fraccionar suplementos, lo cual no es práctico en la vida real. Aunque el costo no cambió significativamente respecto al modelo anterior, ahora los resultados son más practicos."
   ]
  },
  {
   "cell_type": "markdown",
   "id": "6b38f4d0-d362-488c-b492-327bfde03c64",
   "metadata": {},
   "source": [
    "# Ejercicio 1.A"
   ]
  },
  {
   "cell_type": "markdown",
   "id": "2639d827-baa7-4f70-9bea-65eba6c308cc",
   "metadata": {},
   "source": [
    "# The scheduling problem"
   ]
  },
  {
   "cell_type": "code",
   "execution_count": 6,
   "id": "5952c1a6-ef75-4e15-9fd7-376b8a780885",
   "metadata": {},
   "outputs": [],
   "source": [
    "import pulp as pp\n"
   ]
  },
  {
   "cell_type": "code",
   "execution_count": 8,
   "id": "81e9ee15-05b9-4203-8911-7e1a3defb81d",
   "metadata": {},
   "outputs": [],
   "source": [
    "model = pp.LpProblem(name=\"bus_scheduling_problem\", sense=pp.LpMinimize)\n"
   ]
  },
  {
   "cell_type": "code",
   "execution_count": 10,
   "id": "e4ee1a5a-5a1c-4979-834f-91187c3a9b3e",
   "metadata": {},
   "outputs": [],
   "source": [
    "DR_0_8 = pp.LpVariable(name=\"DR_0_8\", lowBound=0, cat='Integer')\n",
    "DR_4_12 = pp.LpVariable(name=\"DR_4_12\", lowBound=0, cat='Integer')\n",
    "DR_8_16 = pp.LpVariable(name=\"DR_8_16\", lowBound=0, cat='Integer')\n",
    "DR_12_20 = pp.LpVariable(name=\"DR_12_20\", lowBound=0, cat='Integer')\n",
    "DR_16_0 = pp.LpVariable(name=\"DR_16_0\", lowBound=0, cat='Integer')\n",
    "DR_20_4 = pp.LpVariable(name=\"DR_20_4\", lowBound=0, cat='Integer')\n"
   ]
  },
  {
   "cell_type": "markdown",
   "id": "7931cdd0-cb1b-4466-993b-5e0de5902ec5",
   "metadata": {},
   "source": [
    "Se definen seis variables (de tipo entero) que representan el número de conductores asignados a distintos turnos. Cada variable tiene un límite inferior (lowBound) de 0, es decir, no puede tomar valores negativos."
   ]
  },
  {
   "cell_type": "markdown",
   "id": "50d98715-3a33-4eaf-bf7c-12b0c664e6d0",
   "metadata": {},
   "source": [
    "Las variables tienen los siguientes nombres:"
   ]
  },
  {
   "cell_type": "markdown",
   "id": "b824c2dd-56bc-4322-9142-d38160b8fab4",
   "metadata": {},
   "source": [
    "DR_0_8: Conductores asignados de 0:00 a 8:00 horas."
   ]
  },
  {
   "cell_type": "markdown",
   "id": "e146d8c8-9a10-4b05-a094-86102fddbd25",
   "metadata": {},
   "source": [
    "DR_4_12: Conductores asignados de 4:00 a 12:00 horas."
   ]
  },
  {
   "cell_type": "markdown",
   "id": "57b81e28-dc94-4292-abbf-372231d54e84",
   "metadata": {},
   "source": [
    "DR_8_16: Conductores asignados de 8:00 a 16:00 horas."
   ]
  },
  {
   "cell_type": "markdown",
   "id": "9b0bc6c4-9ffe-4ded-be68-1e9e83097a94",
   "metadata": {},
   "source": [
    "DR_12_20: Conductores asignados de 12:00 a 20:00 horas."
   ]
  },
  {
   "cell_type": "markdown",
   "id": "526d0f7e-20c3-42ab-8a58-cde567c53fce",
   "metadata": {},
   "source": [
    "DR_16_0: Conductores asignados de 16:00 a 0:00 horas."
   ]
  },
  {
   "cell_type": "markdown",
   "id": "4098e1d9-b9aa-4358-ae76-4ff4e090300c",
   "metadata": {},
   "source": [
    "DR_20_4: Conductores asignados de 20:00 a 4:00 horas."
   ]
  },
  {
   "cell_type": "code",
   "execution_count": 12,
   "id": "48f58818-d5c4-477d-8d97-910be89c9d4a",
   "metadata": {},
   "outputs": [],
   "source": [
    "model += (DR_0_8 + DR_4_12 + DR_8_16 + DR_12_20 + DR_16_0 + DR_20_4, \"Total_Drivers\")\n"
   ]
  },
  {
   "cell_type": "markdown",
   "id": "7817e671-48e2-4af4-abb3-65492b933fc0",
   "metadata": {},
   "source": [
    "Esta línea define la función objetivo que se debe minimizar. En este caso, la función objetivo es la suma total de conductores asignados a todos los turnos, buscando minimizar el número total de conductores."
   ]
  },
  {
   "cell_type": "markdown",
   "id": "176a116a-bf52-47fa-9998-0b4af7cf2c40",
   "metadata": {},
   "source": [
    "Restricciones:"
   ]
  },
  {
   "cell_type": "code",
   "execution_count": 14,
   "id": "f8683a3e-ab7b-4ab2-b70f-d4194c1660bf",
   "metadata": {},
   "outputs": [],
   "source": [
    "model += (DR_0_8 + DR_20_4 >= 4, \"Demand_0_4\")\n"
   ]
  },
  {
   "cell_type": "code",
   "execution_count": 16,
   "id": "c2987771-2f4e-4495-b0fb-93a5fd2cf140",
   "metadata": {},
   "outputs": [],
   "source": [
    "model += (DR_0_8 + DR_4_12 >= 8, \"Demand_4_8\")\n"
   ]
  },
  {
   "cell_type": "code",
   "execution_count": 18,
   "id": "02eeb67b-91b0-496b-b15b-c30a7d930b22",
   "metadata": {},
   "outputs": [],
   "source": [
    "model += (DR_4_12 + DR_8_16 >= 10, \"Demand_8_12\")\n"
   ]
  },
  {
   "cell_type": "code",
   "execution_count": 20,
   "id": "c7508e79-a5cf-4351-8935-393ce2bb92e5",
   "metadata": {},
   "outputs": [],
   "source": [
    "model += (DR_8_16 + DR_12_20 >= 7, \"Demand_12_16\")\n"
   ]
  },
  {
   "cell_type": "code",
   "execution_count": 22,
   "id": "4457c01b-c658-40a0-81f6-44282199a9c1",
   "metadata": {},
   "outputs": [],
   "source": [
    "model += (DR_12_20 + DR_16_0 >= 12, \"Demand_16_20\")\n"
   ]
  },
  {
   "cell_type": "markdown",
   "id": "8f53b910-34d7-42e9-be45-b61d7911b32b",
   "metadata": {},
   "source": [
    "model += (DR_16_0 + DR_20_4 >= 4, \"Demand_20_24\")\n"
   ]
  },
  {
   "cell_type": "code",
   "execution_count": 26,
   "id": "30aff4de-3f3c-4355-ba1a-0ed2d35a8ef0",
   "metadata": {},
   "outputs": [
    {
     "data": {
      "text/plain": [
       "1"
      ]
     },
     "execution_count": 26,
     "metadata": {},
     "output_type": "execute_result"
    }
   ],
   "source": [
    "solver = pp.PULP_CBC_CMD(msg=False)\n",
    "model.solve(solver=solver)\n"
   ]
  },
  {
   "cell_type": "code",
   "execution_count": 28,
   "id": "1249561a-5819-4d96-bb52-c6ab2903a72e",
   "metadata": {},
   "outputs": [
    {
     "name": "stdout",
     "output_type": "stream",
     "text": [
      "DR_0_8: 0.0\n",
      "DR_4_12: 10.0\n",
      "DR_8_16: 0.0\n",
      "DR_12_20: 12.0\n",
      "DR_16_0: 0.0\n",
      "DR_20_4: 4.0\n",
      "Total Drivers: 26.0\n"
     ]
    }
   ],
   "source": [
    "for var in [DR_0_8, DR_4_12, DR_8_16, DR_12_20, DR_16_0, DR_20_4]:\n",
    "    print(f\"{var.name}: {var.varValue}\")\n",
    "\n",
    "print(f\"Total Drivers: {pp.value(model.objective)}\")\n"
   ]
  },
  {
   "cell_type": "markdown",
   "id": "bd1ab29d-2561-48a4-93c8-e8642b8ca478",
   "metadata": {},
   "source": [
    "Interpretación de los Resultados\n"
   ]
  },
  {
   "cell_type": "markdown",
   "id": "48efdc04-1541-40a7-a4dc-84f2d6b3dc0f",
   "metadata": {},
   "source": [
    "DR_0_8: 0.0: No se asignan conductores para el turno de 0:00 a 8:00 horas"
   ]
  },
  {
   "cell_type": "markdown",
   "id": "8537a276-6bee-4aab-9353-5e3567765795",
   "metadata": {},
   "source": [
    "DR_4_12: 10.0: Se asignan 10 conductores para el turno de 4:00 a 12:00 horas."
   ]
  },
  {
   "cell_type": "markdown",
   "id": "9e41ad59-fb05-457b-9976-da36e0590475",
   "metadata": {},
   "source": [
    "DR_8_16: 0.0: No se asignan conductores para el turno de 8:00 a 16:00 horas."
   ]
  },
  {
   "cell_type": "markdown",
   "id": "c602ac1b-b470-4c82-af58-9dc1fb2a84c5",
   "metadata": {},
   "source": [
    "DR_12_20: 12.0: Se asignan 12 conductores para el turno de 12:00 a 20:00 horas."
   ]
  },
  {
   "cell_type": "markdown",
   "id": "fd7074d7-df10-49ad-88a1-8b667b0aacd8",
   "metadata": {},
   "source": [
    "DR_16_0: 0.0: No se asignan conductores para el turno de 16:00 a 0:00 horas."
   ]
  },
  {
   "cell_type": "markdown",
   "id": "b8bc4043-88d7-4a77-8347-043b213a19a4",
   "metadata": {},
   "source": [
    "DR_20_4: 4.0: Se asignan 4 conductores para el turno de 20:00 a 4:00 horas."
   ]
  },
  {
   "cell_type": "markdown",
   "id": "6f957a42-755d-4990-95f9-1d3cf178d7fc",
   "metadata": {},
   "source": [
    "El objetivo del problema era minimizar el número de conductores necesarios para cubrir las necesidades de transporte durante las 24 horas del día, respetando ciertas demandas mínimas en cada tramo horario. La solución encontró que con 26 conductores se pueden cumplir todas las restricciones establecidas, distribuidos de manera específica según los requerimientos de cada turno."
   ]
  },
  {
   "cell_type": "markdown",
   "id": "40bb1a57-3a39-4822-8308-2f702b642b64",
   "metadata": {},
   "source": [
    "# Ejercicio 2"
   ]
  },
  {
   "cell_type": "code",
   "execution_count": 34,
   "id": "8811f8e2-b15c-4cbe-b3a2-0390fda8dbfc",
   "metadata": {},
   "outputs": [],
   "source": [
    "file_path = r\"C:\\Users\\Sistema\\OneDrive\\Documentos\\PUCP\\2024-2\\Herramientas cuantitativas\\Tarea 5\\Optimizaci-n\\comparissons.xlsx\""
   ]
  },
  {
   "cell_type": "code",
   "execution_count": 36,
   "id": "36d70e8c-9a30-4435-942e-2062cda8e9b3",
   "metadata": {},
   "outputs": [],
   "source": [
    "import pandas as pd\n",
    "\n",
    "pairwise_cost = pd.read_excel(file_path, sheet_name='cost_liv', index_col=0)\n",
    "pairwise_language = pd.read_excel(file_path, sheet_name='language_diff', index_col=0)\n",
    "pairwise_job = pd.read_excel(file_path, sheet_name='job_poss', index_col=0)\n",
    "pairwise_criteria = pd.read_excel(file_path, sheet_name='criteria', index_col=0)\n"
   ]
  },
  {
   "cell_type": "code",
   "execution_count": 38,
   "id": "27879a17-e335-439f-99e8-2276eabe949f",
   "metadata": {},
   "outputs": [
    {
     "name": "stdout",
     "output_type": "stream",
     "text": [
      "Matriz de Comparación - Costo de Vida:\n",
      "         Brazil     Spain       USA  Germany\n",
      "Brazil        1  0.166667  0.142857    0.125\n",
      "Spain         6  1.000000  0.333333    0.250\n",
      "USA           7  3.000000  1.000000    0.500\n",
      "Germany       8  4.000000  2.000000    1.000\n",
      "\n",
      "Matriz de Comparación - Dificultad del Idioma:\n",
      "         Brazil  Spain       USA   Germany\n",
      "Brazil        1    0.2  0.142857  0.111111\n",
      "Spain         5    1.0  0.333333  0.200000\n",
      "USA           7    3.0  1.000000  0.333333\n",
      "Germany       9    5.0  3.000000  1.000000\n",
      "\n",
      "Matriz de Comparación - Oportunidades de Empleo:\n",
      "         Brazil     Spain   USA   Germany\n",
      "Brazil        1  0.333333  0.20  0.250000\n",
      "Spain         3  1.000000  0.25  0.333333\n",
      "USA           5  4.000000  1.00  0.500000\n",
      "Germany       4  3.000000  2.00  1.000000\n",
      "\n",
      "Matriz de Comparación - Criterios:\n",
      "               cost_liv  language_diff  job_poss\n",
      "cost_liv            1.0       0.333333         2\n",
      "language_diff       3.0       1.000000         4\n",
      "job_poss            0.5       0.250000         1\n"
     ]
    }
   ],
   "source": [
    "print(\"Matriz de Comparación - Costo de Vida:\")\n",
    "print(pairwise_cost)\n",
    "print(\"\\nMatriz de Comparación - Dificultad del Idioma:\")\n",
    "print(pairwise_language)\n",
    "print(\"\\nMatriz de Comparación - Oportunidades de Empleo:\")\n",
    "print(pairwise_job)\n",
    "print(\"\\nMatriz de Comparación - Criterios:\")\n",
    "print(pairwise_criteria)"
   ]
  },
  {
   "cell_type": "code",
   "execution_count": 40,
   "id": "cb967dc8-f7aa-47e9-8065-fe854a977493",
   "metadata": {},
   "outputs": [],
   "source": [
    "import networkx as nx"
   ]
  },
  {
   "cell_type": "code",
   "execution_count": 42,
   "id": "ac8f1f08-0acf-48f8-aeed-794a85a3b17c",
   "metadata": {},
   "outputs": [],
   "source": [
    "def get_comparisons_from_matrix(matrix):\n",
    "    G = nx.from_pandas_adjacency(matrix, create_using=nx.MultiDiGraph())\n",
    "    return {(e[0], e[1]): e[2]['weight'] for e in G.edges(data=True) if e[0] != e[1]}"
   ]
  },
  {
   "cell_type": "code",
   "execution_count": 44,
   "id": "40270242-45ef-4030-a4da-5d8cf7550d44",
   "metadata": {},
   "outputs": [],
   "source": [
    "cost_comparisons = get_comparisons_from_matrix(pairwise_cost)\n",
    "language_comparisons = get_comparisons_from_matrix(pairwise_language)\n",
    "job_comparisons = get_comparisons_from_matrix(pairwise_job)\n",
    "criteria_comparisons = get_comparisons_from_matrix(pairwise_criteria)"
   ]
  },
  {
   "cell_type": "code",
   "execution_count": 46,
   "id": "141c2351-7612-4b81-b5dd-68a2b624cb5f",
   "metadata": {},
   "outputs": [],
   "source": [
    "import ahpy\n",
    "cost_l = ahpy.Compare('Cost of Living', cost_comparisons, precision=3, random_index='saaty')\n",
    "language_d = ahpy.Compare('Language Difficulty', language_comparisons, precision=3, random_index='saaty')\n",
    "job_p = ahpy.Compare('Job Opportunities', job_comparisons, precision=3, random_index='saaty')"
   ]
  },
  {
   "cell_type": "code",
   "execution_count": 48,
   "id": "32aa3e8b-ab06-4335-9eea-25b3ffd1eb4d",
   "metadata": {},
   "outputs": [],
   "source": [
    "criteria = ahpy.Compare('Criteria', criteria_comparisons, precision=3, random_index='saaty')\n",
    "criteria.add_children([cost_l, language_d, job_p])\n"
   ]
  },
  {
   "cell_type": "code",
   "execution_count": 50,
   "id": "65063280-3027-47d4-b6df-24b81d11b8ca",
   "metadata": {},
   "outputs": [],
   "source": [
    "import numpy as np\n",
    "\n",
    "def ahp_weights_and_consistency(matrix):\n",
    "    eigenvalues, eigenvectors = np.linalg.eig(matrix)\n",
    "    max_eigenvalue = np.max(eigenvalues)\n",
    "    weights = eigenvectors[:, np.argmax(eigenvalues)].real\n",
    "    weights = weights / weights.sum()\n",
    "\n",
    "    n = matrix.shape[0]\n",
    "    CI = (max_eigenvalue - n) / (n - 1)\n",
    "    RI = [0, 0, 0.58, 0.9, 1.12, 1.24, 1.32, 1.41, 1.45]  # Valores RI típicos para matrices de 1 a 9\n",
    "    CR = CI / RI[n - 1] if n - 1 < len(RI) else None\n",
    "\n",
    "    return weights, CI, CR\n"
   ]
  },
  {
   "cell_type": "code",
   "execution_count": 56,
   "id": "794b8c63-d519-4228-83c3-ec3a827fd796",
   "metadata": {},
   "outputs": [
    {
     "name": "stdout",
     "output_type": "stream",
     "text": [
      "Requirement already satisfied: ahpy in c:\\users\\sistema\\anaconda3\\lib\\site-packages (2.0)\n",
      "Requirement already satisfied: numpy in c:\\users\\sistema\\anaconda3\\lib\\site-packages (from ahpy) (1.26.4)\n",
      "Requirement already satisfied: scipy in c:\\users\\sistema\\anaconda3\\lib\\site-packages (from ahpy) (1.13.1)\n",
      "Note: you may need to restart the kernel to use updated packages.\n"
     ]
    }
   ],
   "source": [
    "pip install --upgrade ahpy\n"
   ]
  },
  {
   "cell_type": "code",
   "execution_count": 60,
   "id": "37b7392e-bbbe-4d02-8d13-fca95650811a",
   "metadata": {},
   "outputs": [],
   "source": [
    "cost_weights, cost_CI, cost_CR = ahp_weights_and_consistency(pairwise_cost.values)\n",
    "language_weights, language_CI, language_CR = ahp_weights_and_consistency(pairwise_language.values)\n",
    "job_weights, job_CI, job_CR = ahp_weights_and_consistency(pairwise_job.values)\n",
    "criteria_weights, criteria_CI, criteria_CR = ahp_weights_and_consistency(pairwise_criteria.values)\n",
    "\n"
   ]
  },
  {
   "cell_type": "code",
   "execution_count": 68,
   "id": "cb9fddbb-0327-413a-b21d-647b2a764eab",
   "metadata": {},
   "outputs": [
    {
     "name": "stdout",
     "output_type": "stream",
     "text": [
      "Resultados ordenados:\n",
      "{'Germany': 0.53140420939152, 'USA': 0.28992510351727213, 'Spain': 0.1341833331561339, 'Brazil': 0.044487353935074046}\n"
     ]
    }
   ],
   "source": [
    "criteria_weights = criteria_weights  # Este debe ser el vector de pesos de los criterios\n",
    "\n",
    "\n",
    "cost_of_living_weights = cost_weights\n",
    "language_difficulty_weights = language_weights\n",
    "job_opportunities_weights = job_weights\n",
    "\n",
    "countries = ['Brazil', 'Spain', 'USA', 'Germany']\n",
    "\n",
    "final_scores = {}\n",
    "for i, country in enumerate(countries):\n",
    "    final_score = (\n",
    "        criteria_weights[0] * cost_of_living_weights[i] +  # Costo de Vida\n",
    "        criteria_weights[1] * language_difficulty_weights[i] +  # Dificultad del Idioma\n",
    "        criteria_weights[2] * job_opportunities_weights[i]  # Oportunidades de Empleo\n",
    "    )\n",
    "    final_scores[country] = final_score\n",
    "\n",
    "sorted_final_scores = dict(sorted(final_scores.items(), key=lambda item: item[1], reverse=True))\n",
    "\n",
    "print(\"Resultados ordenados:\")\n",
    "print(sorted_final_scores)\n"
   ]
  },
  {
   "cell_type": "markdown",
   "id": "c50e4f33-6645-4677-80aa-b4d7de59c4d3",
   "metadata": {},
   "source": [
    "El análisis AHP se utilizó para determinar el país más adecuado para un programa de maestría, evaluando tres criterios principales: Costo de Vida, Dificultad del Idioma, y Oportunidades de Empleo. Los países considerados en este análisis fueron Brazil, Spain, USA, y Germany. Cada criterio se ponderó en función de su importancia relativa, y luego se evaluaron los países en cada criterio.\r\n",
    "\r\n",
    "Los resultados finales muestran el siguiente ranking de países, basado en el puntaje global calculado:\r\n",
    "\r\n",
    "Germany: 0.5314 USA: 0.2899 Spain: 0.1342 Brazil: 0.0445 Este ranking indica que Germany es la opción más adecuada para el programa de maestría, ya que tiene el puntaje global más alto. Esto sugiere que Alemania se destaca en los aspectos clave que se consideraron, particularmente en términos de Dificultad del Idioma y Oportunidades de Empleo después de la maestría. USA ocupa el segundo lugar, siendo también una opción competitiva pero menos favorable en comparación con Alemania. Spain y Brazil quedan en las posiciones tercera y cuarta, lo que implica que, aunque podrían ser opciones viables, no cumplen tan efectivamente con los criterios considerados en comparación con los otros dos países.\r\n",
    "\r\n",
    "En conclusión, Germany es la opción recomendada según los criterios seleccionados, ofreciendo un equilibrio favorable entre el costo de vida, la facilidad del idioma y las oportunidades de empleo al finalizar los estudios."
   ]
  },
  {
   "cell_type": "markdown",
   "id": "07d048f0-c7d7-4cad-8095-7a0fce7645de",
   "metadata": {},
   "source": [
    "# Ejercicio 3 - Benchmarking para el programa Pensión 65 por departamento en 2024"
   ]
  },
  {
   "cell_type": "markdown",
   "id": "50c0fa1a-c326-4243-8dd3-cc856b992851",
   "metadata": {},
   "source": [
    "Se realizará el ejercicio de Benchmarking en base a la información acerca del programa Pensión 65 por departamento ya que no existe información por provincia o por distrito. Se recopiló la información a través del portal de Transparencia Económica y los datos estadísticos del programa. Las variables elegidas son las siguientes:\n",
    "\n",
    "- **departamento**: Se refiere al departamento del Perú.\n",
    "- **puntos_pago**: Se refiere al número de puntos de pago establecidos para el programa Pensión 65 para el 2024.\n",
    "- **presupuesto_p65**: Se refiere al Presupuesto Institucional Modificado (PIM) para el programa Pensión 65 para el 2024.\n",
    "- **transferencia_p65**: Se refiere al dinero transferido a los usuarios bimestralmente en el programa Pensión 65 del último bimestre.\n",
    "- **atendidos_p65**: Se refiere a la cantidad de usuarios atendidos en el último bimestre en el programa Pensión 65."
   ]
  },
  {
   "cell_type": "markdown",
   "id": "36c075ab-7ff1-4562-9052-aeb713cd937e",
   "metadata": {},
   "source": [
    "Las variables puntos_pago y presupuesto_p65 son las variables *input* mientras que las variables transferencia_p65 y atendidos_p65 son las variables *output*. En base a esto se realizarán las mediciones de eficiencia. "
   ]
  },
  {
   "cell_type": "code",
   "execution_count": 102,
   "id": "5e106b70-2a79-4676-ace9-baf4f99ce7a6",
   "metadata": {},
   "outputs": [
    {
     "name": "stdout",
     "output_type": "stream",
     "text": [
      "  departamento  puntos_pago  presupuesto_p65  transferencia_p65  atendidos_p65\n",
      "0     Amazonas           35         33016281            5170250          20681\n",
      "1       Ancash           72         75956506           12135000          48540\n",
      "2     Apurímac           82         53786680            8303500          33214\n",
      "3     Arequipa           42         25284352            3851000          15404\n",
      "4     Ayacucho           60         65903382           10406750          41627\n"
     ]
    }
   ],
   "source": [
    "import pandas as pd\n",
    "import warnings\n",
    "\n",
    "warnings.filterwarnings(\"ignore\")\n",
    "url = 'https://docs.google.com/spreadsheets/d/142EE3vg79P9LWelDsGlNfFeJwxdndgdh152rcJGb9Yc/export?format=csv'\n",
    "\n",
    "p65 = pd.read_csv(url)\n",
    "print(p65.head())"
   ]
  },
  {
   "cell_type": "markdown",
   "id": "6df2e478-9cba-4379-9181-0f7b700c872f",
   "metadata": {},
   "source": [
    "Se crean los ratios para realizar las mediciones de eficiencia y se grafican los ratios."
   ]
  },
  {
   "cell_type": "code",
   "execution_count": 105,
   "id": "c50ef9c9-9ddb-4148-bbc7-8778f0a6f1e6",
   "metadata": {},
   "outputs": [],
   "source": [
    "p65['rate_AtendidosByPuntos']=(p65.atendidos_p65/p65.puntos_pago)\n",
    "p65['rate_TransferenciaByPresupuesto']=(p65.transferencia_p65/p65.presupuesto_p65)"
   ]
  },
  {
   "cell_type": "code",
   "execution_count": 107,
   "id": "22284eb2-c3cf-4b01-ba90-50ce756097b8",
   "metadata": {},
   "outputs": [
    {
     "data": {
      "text/html": [
       "\n",
       "<style>\n",
       "  #altair-viz-2887abce32e54421b9733f10afd99c26.vega-embed {\n",
       "    width: 100%;\n",
       "    display: flex;\n",
       "  }\n",
       "\n",
       "  #altair-viz-2887abce32e54421b9733f10afd99c26.vega-embed details,\n",
       "  #altair-viz-2887abce32e54421b9733f10afd99c26.vega-embed details summary {\n",
       "    position: relative;\n",
       "  }\n",
       "</style>\n",
       "<div id=\"altair-viz-2887abce32e54421b9733f10afd99c26\"></div>\n",
       "<script type=\"text/javascript\">\n",
       "  var VEGA_DEBUG = (typeof VEGA_DEBUG == \"undefined\") ? {} : VEGA_DEBUG;\n",
       "  (function(spec, embedOpt){\n",
       "    let outputDiv = document.currentScript.previousElementSibling;\n",
       "    if (outputDiv.id !== \"altair-viz-2887abce32e54421b9733f10afd99c26\") {\n",
       "      outputDiv = document.getElementById(\"altair-viz-2887abce32e54421b9733f10afd99c26\");\n",
       "    }\n",
       "    const paths = {\n",
       "      \"vega\": \"https://cdn.jsdelivr.net/npm/vega@5?noext\",\n",
       "      \"vega-lib\": \"https://cdn.jsdelivr.net/npm/vega-lib?noext\",\n",
       "      \"vega-lite\": \"https://cdn.jsdelivr.net/npm/vega-lite@5.8.0?noext\",\n",
       "      \"vega-embed\": \"https://cdn.jsdelivr.net/npm/vega-embed@6?noext\",\n",
       "    };\n",
       "\n",
       "    function maybeLoadScript(lib, version) {\n",
       "      var key = `${lib.replace(\"-\", \"\")}_version`;\n",
       "      return (VEGA_DEBUG[key] == version) ?\n",
       "        Promise.resolve(paths[lib]) :\n",
       "        new Promise(function(resolve, reject) {\n",
       "          var s = document.createElement('script');\n",
       "          document.getElementsByTagName(\"head\")[0].appendChild(s);\n",
       "          s.async = true;\n",
       "          s.onload = () => {\n",
       "            VEGA_DEBUG[key] = version;\n",
       "            return resolve(paths[lib]);\n",
       "          };\n",
       "          s.onerror = () => reject(`Error loading script: ${paths[lib]}`);\n",
       "          s.src = paths[lib];\n",
       "        });\n",
       "    }\n",
       "\n",
       "    function showError(err) {\n",
       "      outputDiv.innerHTML = `<div class=\"error\" style=\"color:red;\">${err}</div>`;\n",
       "      throw err;\n",
       "    }\n",
       "\n",
       "    function displayChart(vegaEmbed) {\n",
       "      vegaEmbed(outputDiv, spec, embedOpt)\n",
       "        .catch(err => showError(`Javascript Error: ${err.message}<br>This usually means there's a typo in your chart specification. See the javascript console for the full traceback.`));\n",
       "    }\n",
       "\n",
       "    if(typeof define === \"function\" && define.amd) {\n",
       "      requirejs.config({paths});\n",
       "      require([\"vega-embed\"], displayChart, err => showError(`Error loading script: ${err.message}`));\n",
       "    } else {\n",
       "      maybeLoadScript(\"vega\", \"5\")\n",
       "        .then(() => maybeLoadScript(\"vega-lite\", \"5.8.0\"))\n",
       "        .then(() => maybeLoadScript(\"vega-embed\", \"6\"))\n",
       "        .catch(showError)\n",
       "        .then(() => displayChart(vegaEmbed));\n",
       "    }\n",
       "  })({\"config\": {\"view\": {\"continuousWidth\": 300, \"continuousHeight\": 300}}, \"layer\": [{\"mark\": {\"type\": \"point\"}, \"encoding\": {\"color\": {\"field\": \"departamento\", \"legend\": {\"labelFontSize\": 10, \"titleFontSize\": 12}, \"type\": \"nominal\"}, \"x\": {\"field\": \"rate_AtendidosByPuntos\", \"type\": \"quantitative\"}, \"y\": {\"field\": \"rate_TransferenciaByPresupuesto\", \"type\": \"quantitative\"}}, \"name\": \"view_1\"}, {\"mark\": {\"type\": \"text\", \"align\": \"right\", \"baseline\": \"middle\", \"dx\": -7, \"size\": 7}, \"encoding\": {\"color\": {\"field\": \"departamento\", \"legend\": {\"labelFontSize\": 10, \"titleFontSize\": 12}, \"type\": \"nominal\"}, \"text\": {\"field\": \"departamento\", \"type\": \"nominal\"}, \"x\": {\"field\": \"rate_AtendidosByPuntos\", \"type\": \"quantitative\"}, \"y\": {\"field\": \"rate_TransferenciaByPresupuesto\", \"type\": \"quantitative\"}}}], \"data\": {\"name\": \"data-dff3ab27e0c58d0df858e08831580128\"}, \"height\": 600, \"params\": [{\"name\": \"param_1\", \"select\": {\"type\": \"interval\", \"encodings\": [\"x\", \"y\"]}, \"bind\": \"scales\", \"views\": [\"view_1\"]}], \"width\": 600, \"$schema\": \"https://vega.github.io/schema/vega-lite/v5.8.0.json\", \"datasets\": {\"data-dff3ab27e0c58d0df858e08831580128\": [{\"departamento\": \"Amazonas\", \"puntos_pago\": 35, \"presupuesto_p65\": 33016281, \"transferencia_p65\": 5170250, \"atendidos_p65\": 20681, \"rate_AtendidosByPuntos\": 590.8857142857142, \"rate_TransferenciaByPresupuesto\": 0.15659698316718348}, {\"departamento\": \"Ancash\", \"puntos_pago\": 72, \"presupuesto_p65\": 75956506, \"transferencia_p65\": 12135000, \"atendidos_p65\": 48540, \"rate_AtendidosByPuntos\": 674.1666666666666, \"rate_TransferenciaByPresupuesto\": 0.1597624830189003}, {\"departamento\": \"Apur\\u00edmac\", \"puntos_pago\": 82, \"presupuesto_p65\": 53786680, \"transferencia_p65\": 8303500, \"atendidos_p65\": 33214, \"rate_AtendidosByPuntos\": 405.0487804878049, \"rate_TransferenciaByPresupuesto\": 0.15437837025821263}, {\"departamento\": \"Arequipa\", \"puntos_pago\": 42, \"presupuesto_p65\": 25284352, \"transferencia_p65\": 3851000, \"atendidos_p65\": 15404, \"rate_AtendidosByPuntos\": 366.76190476190476, \"rate_TransferenciaByPresupuesto\": 0.15230764070995373}, {\"departamento\": \"Ayacucho\", \"puntos_pago\": 60, \"presupuesto_p65\": 65903382, \"transferencia_p65\": 10406750, \"atendidos_p65\": 41627, \"rate_AtendidosByPuntos\": 693.7833333333333, \"rate_TransferenciaByPresupuesto\": 0.15790919500914233}, {\"departamento\": \"Cajamarca\", \"puntos_pago\": 91, \"presupuesto_p65\": 140816441, \"transferencia_p65\": 22756250, \"atendidos_p65\": 91025, \"rate_AtendidosByPuntos\": 1000.2747252747253, \"rate_TransferenciaByPresupuesto\": 0.16160222370625033}, {\"departamento\": \"Callao\", \"puntos_pago\": 5, \"presupuesto_p65\": 10556560, \"transferencia_p65\": 1789000, \"atendidos_p65\": 7156, \"rate_AtendidosByPuntos\": 1431.2, \"rate_TransferenciaByPresupuesto\": 0.1694680843001887}, {\"departamento\": \"Cusco\", \"puntos_pago\": 56, \"presupuesto_p65\": 88383766, \"transferencia_p65\": 14198500, \"atendidos_p65\": 56794, \"rate_AtendidosByPuntos\": 1014.1785714285714, \"rate_TransferenciaByPresupuesto\": 0.16064601727878397}, {\"departamento\": \"Huancavelica\", \"puntos_pago\": 42, \"presupuesto_p65\": 47048986, \"transferencia_p65\": 7304500, \"atendidos_p65\": 29218, \"rate_AtendidosByPuntos\": 695.6666666666666, \"rate_TransferenciaByPresupuesto\": 0.1552530802682974}, {\"departamento\": \"Hu\\u00e1nuco\", \"puntos_pago\": 36, \"presupuesto_p65\": 59633479, \"transferencia_p65\": 9462000, \"atendidos_p65\": 37848, \"rate_AtendidosByPuntos\": 1051.3333333333333, \"rate_TransferenciaByPresupuesto\": 0.1586692602656974}, {\"departamento\": \"Ica\", \"puntos_pago\": 14, \"presupuesto_p65\": 14424605, \"transferencia_p65\": 2265500, \"atendidos_p65\": 9062, \"rate_AtendidosByPuntos\": 647.2857142857143, \"rate_TransferenciaByPresupuesto\": 0.15705802689224418}, {\"departamento\": \"Jun\\u00edn\", \"puntos_pago\": 30, \"presupuesto_p65\": 61526461, \"transferencia_p65\": 9966250, \"atendidos_p65\": 39865, \"rate_AtendidosByPuntos\": 1328.8333333333333, \"rate_TransferenciaByPresupuesto\": 0.16198315063172575}, {\"departamento\": \"La Libertad\", \"puntos_pago\": 72, \"presupuesto_p65\": 65345280, \"transferencia_p65\": 10441000, \"atendidos_p65\": 41764, \"rate_AtendidosByPuntos\": 580.0555555555555, \"rate_TransferenciaByPresupuesto\": 0.1597820072084778}, {\"departamento\": \"Lambayeque\", \"puntos_pago\": 25, \"presupuesto_p65\": 41550361, \"transferencia_p65\": 6739000, \"atendidos_p65\": 26956, \"rate_AtendidosByPuntos\": 1078.24, \"rate_TransferenciaByPresupuesto\": 0.1621887232219234}, {\"departamento\": \"Lima\", \"puntos_pago\": 64, \"presupuesto_p65\": 103031820, \"transferencia_p65\": 16259000, \"atendidos_p65\": 65036, \"rate_AtendidosByPuntos\": 1016.1875, \"rate_TransferenciaByPresupuesto\": 0.15780561772081672}, {\"departamento\": \"Loreto\", \"puntos_pago\": 61, \"presupuesto_p65\": 63685353, \"transferencia_p65\": 9965250, \"atendidos_p65\": 39861, \"rate_AtendidosByPuntos\": 653.4590163934427, \"rate_TransferenciaByPresupuesto\": 0.1564763250978604}, {\"departamento\": \"Madre de Dios\", \"puntos_pago\": 5, \"presupuesto_p65\": 4313334, \"transferencia_p65\": 583750, \"atendidos_p65\": 2335, \"rate_AtendidosByPuntos\": 467.0, \"rate_TransferenciaByPresupuesto\": 0.13533614600677804}, {\"departamento\": \"Moquegua\", \"puntos_pago\": 15, \"presupuesto_p65\": 7136932, \"transferencia_p65\": 1009000, \"atendidos_p65\": 4036, \"rate_AtendidosByPuntos\": 269.06666666666666, \"rate_TransferenciaByPresupuesto\": 0.1413772752773881}, {\"departamento\": \"Pasco\", \"puntos_pago\": 14, \"presupuesto_p65\": 15361260, \"transferencia_p65\": 2356250, \"atendidos_p65\": 9425, \"rate_AtendidosByPuntos\": 673.2142857142857, \"rate_TransferenciaByPresupuesto\": 0.153389110007903}, {\"departamento\": \"Piura\", \"puntos_pago\": 56, \"presupuesto_p65\": 99886555, \"transferencia_p65\": 16193000, \"atendidos_p65\": 64772, \"rate_AtendidosByPuntos\": 1156.642857142857, \"rate_TransferenciaByPresupuesto\": 0.16211391012534168}, {\"departamento\": \"Puno\", \"puntos_pago\": 73, \"presupuesto_p65\": 113965125, \"transferencia_p65\": 18456000, \"atendidos_p65\": 73824, \"rate_AtendidosByPuntos\": 1011.2876712328767, \"rate_TransferenciaByPresupuesto\": 0.16194427900640657}, {\"departamento\": \"San Mart\\u00edn\", \"puntos_pago\": 29, \"presupuesto_p65\": 55836250, \"transferencia_p65\": 8994250, \"atendidos_p65\": 35977, \"rate_AtendidosByPuntos\": 1240.5862068965516, \"rate_TransferenciaByPresupuesto\": 0.16108263001186504}, {\"departamento\": \"Tacna\", \"puntos_pago\": 8, \"presupuesto_p65\": 6838876, \"transferencia_p65\": 998500, \"atendidos_p65\": 3994, \"rate_AtendidosByPuntos\": 499.25, \"rate_TransferenciaByPresupuesto\": 0.14600352455578958}, {\"departamento\": \"Tumbes\", \"puntos_pago\": 4, \"presupuesto_p65\": 11041840, \"transferencia_p65\": 1712000, \"atendidos_p65\": 6848, \"rate_AtendidosByPuntos\": 1712.0, \"rate_TransferenciaByPresupuesto\": 0.15504662266433855}, {\"departamento\": \"Ucayali\", \"puntos_pago\": 12, \"presupuesto_p65\": 29733275, \"transferencia_p65\": 4772250, \"atendidos_p65\": 19089, \"rate_AtendidosByPuntos\": 1590.75, \"rate_TransferenciaByPresupuesto\": 0.16050199650055366}]}}, {\"mode\": \"vega-lite\"});\n",
       "</script>"
      ],
      "text/plain": [
       "alt.LayerChart(...)"
      ]
     },
     "execution_count": 107,
     "metadata": {},
     "output_type": "execute_result"
    }
   ],
   "source": [
    "import altair as alt\n",
    "\n",
    "points = alt.Chart(p65).mark_point().encode(\n",
    "    x='rate_AtendidosByPuntos:Q',\n",
    "    y='rate_TransferenciaByPresupuesto:Q',\n",
    "    color=alt.Color('departamento', legend=alt.Legend(titleFontSize=12, labelFontSize=10))  # Tamaño más pequeño para la leyenda\n",
    ").properties(\n",
    "    width=600,  \n",
    "    height=600  \n",
    ")\n",
    "\n",
    "text = points.mark_text(\n",
    "    align='right',\n",
    "    baseline='middle',\n",
    "    dx=-7,\n",
    "    size=7  \n",
    ").encode(\n",
    "    text='departamento'\n",
    ")\n",
    "\n",
    "(points + text).interactive()"
   ]
  },
  {
   "cell_type": "markdown",
   "id": "f67e9792-1708-4598-9e5e-6ca8840fe987",
   "metadata": {},
   "source": [
    "Se observan los departamentos y se comparan los ratios. Parece ser que la eficiencia en los ratios no es igual en los departamentos. "
   ]
  },
  {
   "cell_type": "code",
   "execution_count": 109,
   "id": "f4e0424e-7345-4c87-b2d3-d7bd20e178e5",
   "metadata": {},
   "outputs": [
    {
     "data": {
      "text/html": [
       "<div>\n",
       "<style scoped>\n",
       "    .dataframe tbody tr th:only-of-type {\n",
       "        vertical-align: middle;\n",
       "    }\n",
       "\n",
       "    .dataframe tbody tr th {\n",
       "        vertical-align: top;\n",
       "    }\n",
       "\n",
       "    .dataframe thead th {\n",
       "        text-align: right;\n",
       "    }\n",
       "</style>\n",
       "<table border=\"1\" class=\"dataframe\">\n",
       "  <thead>\n",
       "    <tr style=\"text-align: right;\">\n",
       "      <th></th>\n",
       "      <th>departamento</th>\n",
       "      <th>rate_AtendidosByPuntos</th>\n",
       "      <th>rate_TransferenciaByPresupuesto</th>\n",
       "    </tr>\n",
       "  </thead>\n",
       "  <tbody>\n",
       "    <tr>\n",
       "      <th>23</th>\n",
       "      <td>Tumbes</td>\n",
       "      <td>1712.000000</td>\n",
       "      <td>0.155047</td>\n",
       "    </tr>\n",
       "    <tr>\n",
       "      <th>24</th>\n",
       "      <td>Ucayali</td>\n",
       "      <td>1590.750000</td>\n",
       "      <td>0.160502</td>\n",
       "    </tr>\n",
       "    <tr>\n",
       "      <th>6</th>\n",
       "      <td>Callao</td>\n",
       "      <td>1431.200000</td>\n",
       "      <td>0.169468</td>\n",
       "    </tr>\n",
       "    <tr>\n",
       "      <th>11</th>\n",
       "      <td>Junín</td>\n",
       "      <td>1328.833333</td>\n",
       "      <td>0.161983</td>\n",
       "    </tr>\n",
       "    <tr>\n",
       "      <th>21</th>\n",
       "      <td>San Martín</td>\n",
       "      <td>1240.586207</td>\n",
       "      <td>0.161083</td>\n",
       "    </tr>\n",
       "  </tbody>\n",
       "</table>\n",
       "</div>"
      ],
      "text/plain": [
       "   departamento  rate_AtendidosByPuntos  rate_TransferenciaByPresupuesto\n",
       "23       Tumbes             1712.000000                         0.155047\n",
       "24      Ucayali             1590.750000                         0.160502\n",
       "6        Callao             1431.200000                         0.169468\n",
       "11        Junín             1328.833333                         0.161983\n",
       "21   San Martín             1240.586207                         0.161083"
      ]
     },
     "execution_count": 109,
     "metadata": {},
     "output_type": "execute_result"
    }
   ],
   "source": [
    "p65[['departamento','rate_AtendidosByPuntos','rate_TransferenciaByPresupuesto']].sort_values(by='rate_AtendidosByPuntos',ascending=False).head()"
   ]
  },
  {
   "cell_type": "code",
   "execution_count": 114,
   "id": "4a54c2da-bfdf-4559-a8cc-c5105ff5fd03",
   "metadata": {},
   "outputs": [
    {
     "data": {
      "text/html": [
       "<div>\n",
       "<style scoped>\n",
       "    .dataframe tbody tr th:only-of-type {\n",
       "        vertical-align: middle;\n",
       "    }\n",
       "\n",
       "    .dataframe tbody tr th {\n",
       "        vertical-align: top;\n",
       "    }\n",
       "\n",
       "    .dataframe thead th {\n",
       "        text-align: right;\n",
       "    }\n",
       "</style>\n",
       "<table border=\"1\" class=\"dataframe\">\n",
       "  <thead>\n",
       "    <tr style=\"text-align: right;\">\n",
       "      <th></th>\n",
       "      <th>departamento</th>\n",
       "      <th>rate_AtendidosByPuntos</th>\n",
       "      <th>rate_TransferenciaByPresupuesto</th>\n",
       "    </tr>\n",
       "  </thead>\n",
       "  <tbody>\n",
       "    <tr>\n",
       "      <th>6</th>\n",
       "      <td>Callao</td>\n",
       "      <td>1431.200000</td>\n",
       "      <td>0.169468</td>\n",
       "    </tr>\n",
       "    <tr>\n",
       "      <th>13</th>\n",
       "      <td>Lambayeque</td>\n",
       "      <td>1078.240000</td>\n",
       "      <td>0.162189</td>\n",
       "    </tr>\n",
       "    <tr>\n",
       "      <th>19</th>\n",
       "      <td>Piura</td>\n",
       "      <td>1156.642857</td>\n",
       "      <td>0.162114</td>\n",
       "    </tr>\n",
       "    <tr>\n",
       "      <th>11</th>\n",
       "      <td>Junín</td>\n",
       "      <td>1328.833333</td>\n",
       "      <td>0.161983</td>\n",
       "    </tr>\n",
       "    <tr>\n",
       "      <th>20</th>\n",
       "      <td>Puno</td>\n",
       "      <td>1011.287671</td>\n",
       "      <td>0.161944</td>\n",
       "    </tr>\n",
       "  </tbody>\n",
       "</table>\n",
       "</div>"
      ],
      "text/plain": [
       "   departamento  rate_AtendidosByPuntos  rate_TransferenciaByPresupuesto\n",
       "6        Callao             1431.200000                         0.169468\n",
       "13   Lambayeque             1078.240000                         0.162189\n",
       "19        Piura             1156.642857                         0.162114\n",
       "11        Junín             1328.833333                         0.161983\n",
       "20         Puno             1011.287671                         0.161944"
      ]
     },
     "execution_count": 114,
     "metadata": {},
     "output_type": "execute_result"
    }
   ],
   "source": [
    "p65[['departamento','rate_AtendidosByPuntos','rate_TransferenciaByPresupuesto']].sort_values(by='rate_TransferenciaByPresupuesto',ascending=False).head()"
   ]
  },
  {
   "cell_type": "code",
   "execution_count": 116,
   "id": "b2e54d5c-ac90-43ab-97cb-da4142657248",
   "metadata": {},
   "outputs": [
    {
     "data": {
      "text/html": [
       "<div>\n",
       "<style scoped>\n",
       "    .dataframe tbody tr th:only-of-type {\n",
       "        vertical-align: middle;\n",
       "    }\n",
       "\n",
       "    .dataframe tbody tr th {\n",
       "        vertical-align: top;\n",
       "    }\n",
       "\n",
       "    .dataframe thead th {\n",
       "        text-align: right;\n",
       "    }\n",
       "</style>\n",
       "<table border=\"1\" class=\"dataframe\">\n",
       "  <thead>\n",
       "    <tr style=\"text-align: right;\">\n",
       "      <th></th>\n",
       "      <th>x</th>\n",
       "      <th>y</th>\n",
       "    </tr>\n",
       "  </thead>\n",
       "  <tbody>\n",
       "    <tr>\n",
       "      <th>0</th>\n",
       "      <td>0.0</td>\n",
       "      <td>0.169468</td>\n",
       "    </tr>\n",
       "    <tr>\n",
       "      <th>1</th>\n",
       "      <td>1431.2</td>\n",
       "      <td>0.169468</td>\n",
       "    </tr>\n",
       "    <tr>\n",
       "      <th>2</th>\n",
       "      <td>1712.0</td>\n",
       "      <td>0.155047</td>\n",
       "    </tr>\n",
       "    <tr>\n",
       "      <th>3</th>\n",
       "      <td>1712.0</td>\n",
       "      <td>0.000000</td>\n",
       "    </tr>\n",
       "  </tbody>\n",
       "</table>\n",
       "</div>"
      ],
      "text/plain": [
       "        x         y\n",
       "0     0.0  0.169468\n",
       "1  1431.2  0.169468\n",
       "2  1712.0  0.155047\n",
       "3  1712.0  0.000000"
      ]
     },
     "execution_count": 116,
     "metadata": {},
     "output_type": "execute_result"
    }
   ],
   "source": [
    "Best_AtendidosByPuntos=p65.rate_AtendidosByPuntos.idxmax()\n",
    "Best_TransferenciaByPresupuesto=p65.rate_TransferenciaByPresupuesto.idxmax()\n",
    "\n",
    "frontier1=p65.loc[Best_AtendidosByPuntos,['rate_AtendidosByPuntos','rate_TransferenciaByPresupuesto']].to_list()\n",
    "frontier2=p65.loc[Best_TransferenciaByPresupuesto,['rate_AtendidosByPuntos','rate_TransferenciaByPresupuesto']].to_list()\n",
    "\n",
    "#parallels\n",
    "frontier1v=[frontier1[0],0]\n",
    "frontier2h=[0,frontier2[1]]\n",
    "\n",
    "#then\n",
    "envelope=pd.DataFrame([frontier2h,frontier2,frontier1,frontier1v],columns=['x','y'])\n",
    "envelope"
   ]
  },
  {
   "cell_type": "code",
   "execution_count": 118,
   "id": "ae9ae82a-58d8-4053-a800-d3fe53c1e2c5",
   "metadata": {},
   "outputs": [
    {
     "data": {
      "text/html": [
       "\n",
       "<style>\n",
       "  #altair-viz-fa7e13e3b4044430b8bd9543ce456f80.vega-embed {\n",
       "    width: 100%;\n",
       "    display: flex;\n",
       "  }\n",
       "\n",
       "  #altair-viz-fa7e13e3b4044430b8bd9543ce456f80.vega-embed details,\n",
       "  #altair-viz-fa7e13e3b4044430b8bd9543ce456f80.vega-embed details summary {\n",
       "    position: relative;\n",
       "  }\n",
       "</style>\n",
       "<div id=\"altair-viz-fa7e13e3b4044430b8bd9543ce456f80\"></div>\n",
       "<script type=\"text/javascript\">\n",
       "  var VEGA_DEBUG = (typeof VEGA_DEBUG == \"undefined\") ? {} : VEGA_DEBUG;\n",
       "  (function(spec, embedOpt){\n",
       "    let outputDiv = document.currentScript.previousElementSibling;\n",
       "    if (outputDiv.id !== \"altair-viz-fa7e13e3b4044430b8bd9543ce456f80\") {\n",
       "      outputDiv = document.getElementById(\"altair-viz-fa7e13e3b4044430b8bd9543ce456f80\");\n",
       "    }\n",
       "    const paths = {\n",
       "      \"vega\": \"https://cdn.jsdelivr.net/npm/vega@5?noext\",\n",
       "      \"vega-lib\": \"https://cdn.jsdelivr.net/npm/vega-lib?noext\",\n",
       "      \"vega-lite\": \"https://cdn.jsdelivr.net/npm/vega-lite@5.8.0?noext\",\n",
       "      \"vega-embed\": \"https://cdn.jsdelivr.net/npm/vega-embed@6?noext\",\n",
       "    };\n",
       "\n",
       "    function maybeLoadScript(lib, version) {\n",
       "      var key = `${lib.replace(\"-\", \"\")}_version`;\n",
       "      return (VEGA_DEBUG[key] == version) ?\n",
       "        Promise.resolve(paths[lib]) :\n",
       "        new Promise(function(resolve, reject) {\n",
       "          var s = document.createElement('script');\n",
       "          document.getElementsByTagName(\"head\")[0].appendChild(s);\n",
       "          s.async = true;\n",
       "          s.onload = () => {\n",
       "            VEGA_DEBUG[key] = version;\n",
       "            return resolve(paths[lib]);\n",
       "          };\n",
       "          s.onerror = () => reject(`Error loading script: ${paths[lib]}`);\n",
       "          s.src = paths[lib];\n",
       "        });\n",
       "    }\n",
       "\n",
       "    function showError(err) {\n",
       "      outputDiv.innerHTML = `<div class=\"error\" style=\"color:red;\">${err}</div>`;\n",
       "      throw err;\n",
       "    }\n",
       "\n",
       "    function displayChart(vegaEmbed) {\n",
       "      vegaEmbed(outputDiv, spec, embedOpt)\n",
       "        .catch(err => showError(`Javascript Error: ${err.message}<br>This usually means there's a typo in your chart specification. See the javascript console for the full traceback.`));\n",
       "    }\n",
       "\n",
       "    if(typeof define === \"function\" && define.amd) {\n",
       "      requirejs.config({paths});\n",
       "      require([\"vega-embed\"], displayChart, err => showError(`Error loading script: ${err.message}`));\n",
       "    } else {\n",
       "      maybeLoadScript(\"vega\", \"5\")\n",
       "        .then(() => maybeLoadScript(\"vega-lite\", \"5.8.0\"))\n",
       "        .then(() => maybeLoadScript(\"vega-embed\", \"6\"))\n",
       "        .catch(showError)\n",
       "        .then(() => displayChart(vegaEmbed));\n",
       "    }\n",
       "  })({\"config\": {\"view\": {\"continuousWidth\": 300, \"continuousHeight\": 300}}, \"layer\": [{\"mark\": {\"type\": \"point\"}, \"encoding\": {\"color\": {\"field\": \"departamento\", \"legend\": {\"labelFontSize\": 10, \"titleFontSize\": 12}, \"type\": \"nominal\"}, \"x\": {\"field\": \"rate_AtendidosByPuntos\", \"type\": \"quantitative\"}, \"y\": {\"field\": \"rate_TransferenciaByPresupuesto\", \"type\": \"quantitative\"}}}, {\"mark\": {\"type\": \"text\", \"align\": \"right\", \"baseline\": \"middle\", \"dx\": -7, \"size\": 7}, \"encoding\": {\"color\": {\"field\": \"departamento\", \"legend\": {\"labelFontSize\": 10, \"titleFontSize\": 12}, \"type\": \"nominal\"}, \"text\": {\"field\": \"departamento\", \"type\": \"nominal\"}, \"x\": {\"field\": \"rate_AtendidosByPuntos\", \"type\": \"quantitative\"}, \"y\": {\"field\": \"rate_TransferenciaByPresupuesto\", \"type\": \"quantitative\"}}}, {\"data\": {\"name\": \"data-87abbfb6e4e6cda3c04635fc48fdf16d\"}, \"mark\": {\"type\": \"line\", \"color\": \"red\"}, \"encoding\": {\"x\": {\"field\": \"x\", \"type\": \"quantitative\"}, \"y\": {\"field\": \"y\", \"type\": \"quantitative\"}}}], \"data\": {\"name\": \"data-dff3ab27e0c58d0df858e08831580128\"}, \"height\": 600, \"width\": 600, \"$schema\": \"https://vega.github.io/schema/vega-lite/v5.8.0.json\", \"datasets\": {\"data-dff3ab27e0c58d0df858e08831580128\": [{\"departamento\": \"Amazonas\", \"puntos_pago\": 35, \"presupuesto_p65\": 33016281, \"transferencia_p65\": 5170250, \"atendidos_p65\": 20681, \"rate_AtendidosByPuntos\": 590.8857142857142, \"rate_TransferenciaByPresupuesto\": 0.15659698316718348}, {\"departamento\": \"Ancash\", \"puntos_pago\": 72, \"presupuesto_p65\": 75956506, \"transferencia_p65\": 12135000, \"atendidos_p65\": 48540, \"rate_AtendidosByPuntos\": 674.1666666666666, \"rate_TransferenciaByPresupuesto\": 0.1597624830189003}, {\"departamento\": \"Apur\\u00edmac\", \"puntos_pago\": 82, \"presupuesto_p65\": 53786680, \"transferencia_p65\": 8303500, \"atendidos_p65\": 33214, \"rate_AtendidosByPuntos\": 405.0487804878049, \"rate_TransferenciaByPresupuesto\": 0.15437837025821263}, {\"departamento\": \"Arequipa\", \"puntos_pago\": 42, \"presupuesto_p65\": 25284352, \"transferencia_p65\": 3851000, \"atendidos_p65\": 15404, \"rate_AtendidosByPuntos\": 366.76190476190476, \"rate_TransferenciaByPresupuesto\": 0.15230764070995373}, {\"departamento\": \"Ayacucho\", \"puntos_pago\": 60, \"presupuesto_p65\": 65903382, \"transferencia_p65\": 10406750, \"atendidos_p65\": 41627, \"rate_AtendidosByPuntos\": 693.7833333333333, \"rate_TransferenciaByPresupuesto\": 0.15790919500914233}, {\"departamento\": \"Cajamarca\", \"puntos_pago\": 91, \"presupuesto_p65\": 140816441, \"transferencia_p65\": 22756250, \"atendidos_p65\": 91025, \"rate_AtendidosByPuntos\": 1000.2747252747253, \"rate_TransferenciaByPresupuesto\": 0.16160222370625033}, {\"departamento\": \"Callao\", \"puntos_pago\": 5, \"presupuesto_p65\": 10556560, \"transferencia_p65\": 1789000, \"atendidos_p65\": 7156, \"rate_AtendidosByPuntos\": 1431.2, \"rate_TransferenciaByPresupuesto\": 0.1694680843001887}, {\"departamento\": \"Cusco\", \"puntos_pago\": 56, \"presupuesto_p65\": 88383766, \"transferencia_p65\": 14198500, \"atendidos_p65\": 56794, \"rate_AtendidosByPuntos\": 1014.1785714285714, \"rate_TransferenciaByPresupuesto\": 0.16064601727878397}, {\"departamento\": \"Huancavelica\", \"puntos_pago\": 42, \"presupuesto_p65\": 47048986, \"transferencia_p65\": 7304500, \"atendidos_p65\": 29218, \"rate_AtendidosByPuntos\": 695.6666666666666, \"rate_TransferenciaByPresupuesto\": 0.1552530802682974}, {\"departamento\": \"Hu\\u00e1nuco\", \"puntos_pago\": 36, \"presupuesto_p65\": 59633479, \"transferencia_p65\": 9462000, \"atendidos_p65\": 37848, \"rate_AtendidosByPuntos\": 1051.3333333333333, \"rate_TransferenciaByPresupuesto\": 0.1586692602656974}, {\"departamento\": \"Ica\", \"puntos_pago\": 14, \"presupuesto_p65\": 14424605, \"transferencia_p65\": 2265500, \"atendidos_p65\": 9062, \"rate_AtendidosByPuntos\": 647.2857142857143, \"rate_TransferenciaByPresupuesto\": 0.15705802689224418}, {\"departamento\": \"Jun\\u00edn\", \"puntos_pago\": 30, \"presupuesto_p65\": 61526461, \"transferencia_p65\": 9966250, \"atendidos_p65\": 39865, \"rate_AtendidosByPuntos\": 1328.8333333333333, \"rate_TransferenciaByPresupuesto\": 0.16198315063172575}, {\"departamento\": \"La Libertad\", \"puntos_pago\": 72, \"presupuesto_p65\": 65345280, \"transferencia_p65\": 10441000, \"atendidos_p65\": 41764, \"rate_AtendidosByPuntos\": 580.0555555555555, \"rate_TransferenciaByPresupuesto\": 0.1597820072084778}, {\"departamento\": \"Lambayeque\", \"puntos_pago\": 25, \"presupuesto_p65\": 41550361, \"transferencia_p65\": 6739000, \"atendidos_p65\": 26956, \"rate_AtendidosByPuntos\": 1078.24, \"rate_TransferenciaByPresupuesto\": 0.1621887232219234}, {\"departamento\": \"Lima\", \"puntos_pago\": 64, \"presupuesto_p65\": 103031820, \"transferencia_p65\": 16259000, \"atendidos_p65\": 65036, \"rate_AtendidosByPuntos\": 1016.1875, \"rate_TransferenciaByPresupuesto\": 0.15780561772081672}, {\"departamento\": \"Loreto\", \"puntos_pago\": 61, \"presupuesto_p65\": 63685353, \"transferencia_p65\": 9965250, \"atendidos_p65\": 39861, \"rate_AtendidosByPuntos\": 653.4590163934427, \"rate_TransferenciaByPresupuesto\": 0.1564763250978604}, {\"departamento\": \"Madre de Dios\", \"puntos_pago\": 5, \"presupuesto_p65\": 4313334, \"transferencia_p65\": 583750, \"atendidos_p65\": 2335, \"rate_AtendidosByPuntos\": 467.0, \"rate_TransferenciaByPresupuesto\": 0.13533614600677804}, {\"departamento\": \"Moquegua\", \"puntos_pago\": 15, \"presupuesto_p65\": 7136932, \"transferencia_p65\": 1009000, \"atendidos_p65\": 4036, \"rate_AtendidosByPuntos\": 269.06666666666666, \"rate_TransferenciaByPresupuesto\": 0.1413772752773881}, {\"departamento\": \"Pasco\", \"puntos_pago\": 14, \"presupuesto_p65\": 15361260, \"transferencia_p65\": 2356250, \"atendidos_p65\": 9425, \"rate_AtendidosByPuntos\": 673.2142857142857, \"rate_TransferenciaByPresupuesto\": 0.153389110007903}, {\"departamento\": \"Piura\", \"puntos_pago\": 56, \"presupuesto_p65\": 99886555, \"transferencia_p65\": 16193000, \"atendidos_p65\": 64772, \"rate_AtendidosByPuntos\": 1156.642857142857, \"rate_TransferenciaByPresupuesto\": 0.16211391012534168}, {\"departamento\": \"Puno\", \"puntos_pago\": 73, \"presupuesto_p65\": 113965125, \"transferencia_p65\": 18456000, \"atendidos_p65\": 73824, \"rate_AtendidosByPuntos\": 1011.2876712328767, \"rate_TransferenciaByPresupuesto\": 0.16194427900640657}, {\"departamento\": \"San Mart\\u00edn\", \"puntos_pago\": 29, \"presupuesto_p65\": 55836250, \"transferencia_p65\": 8994250, \"atendidos_p65\": 35977, \"rate_AtendidosByPuntos\": 1240.5862068965516, \"rate_TransferenciaByPresupuesto\": 0.16108263001186504}, {\"departamento\": \"Tacna\", \"puntos_pago\": 8, \"presupuesto_p65\": 6838876, \"transferencia_p65\": 998500, \"atendidos_p65\": 3994, \"rate_AtendidosByPuntos\": 499.25, \"rate_TransferenciaByPresupuesto\": 0.14600352455578958}, {\"departamento\": \"Tumbes\", \"puntos_pago\": 4, \"presupuesto_p65\": 11041840, \"transferencia_p65\": 1712000, \"atendidos_p65\": 6848, \"rate_AtendidosByPuntos\": 1712.0, \"rate_TransferenciaByPresupuesto\": 0.15504662266433855}, {\"departamento\": \"Ucayali\", \"puntos_pago\": 12, \"presupuesto_p65\": 29733275, \"transferencia_p65\": 4772250, \"atendidos_p65\": 19089, \"rate_AtendidosByPuntos\": 1590.75, \"rate_TransferenciaByPresupuesto\": 0.16050199650055366}], \"data-87abbfb6e4e6cda3c04635fc48fdf16d\": [{\"x\": 0.0, \"y\": 0.1694680843001887}, {\"x\": 1431.2, \"y\": 0.1694680843001887}, {\"x\": 1712.0, \"y\": 0.15504662266433855}, {\"x\": 1712.0, \"y\": 0.0}]}}, {\"mode\": \"vega-lite\"});\n",
       "</script>"
      ],
      "text/plain": [
       "alt.LayerChart(...)"
      ]
     },
     "execution_count": 118,
     "metadata": {},
     "output_type": "execute_result"
    }
   ],
   "source": [
    "points + text + alt.Chart(envelope).mark_line(color='red').encode(\n",
    "    x='x',\n",
    "    y='y',\n",
    ")"
   ]
  },
  {
   "cell_type": "markdown",
   "id": "84807f16-4141-45f4-9746-506f59fff8b7",
   "metadata": {},
   "source": [
    "Debido a que hay múltiples inputs y outputs, se utilizará Pyfrontier para desarrollar la optimización"
   ]
  },
  {
   "cell_type": "code",
   "execution_count": 121,
   "id": "2472a965-e194-4fe4-8c7c-a6c318e49863",
   "metadata": {},
   "outputs": [
    {
     "name": "stdout",
     "output_type": "stream",
     "text": [
      "Requirement already satisfied: Pyfrontier in c:\\users\\sistema\\anaconda3\\lib\\site-packages (1.0.2)\n",
      "Requirement already satisfied: numpy>=1.21 in c:\\users\\sistema\\anaconda3\\lib\\site-packages (from Pyfrontier) (1.26.4)\n",
      "Requirement already satisfied: pulp>=2.6.0 in c:\\users\\sistema\\anaconda3\\lib\\site-packages (from Pyfrontier) (2.9.0)\n"
     ]
    }
   ],
   "source": [
    "!pip install Pyfrontier"
   ]
  },
  {
   "cell_type": "code",
   "execution_count": 123,
   "id": "14edf499-04b3-409f-8259-5702e7b185d3",
   "metadata": {},
   "outputs": [],
   "source": [
    "p65Input = ['puntos_pago', 'presupuesto_p65']  \n",
    "p65Output = ['transferencia_p65', 'atendidos_p65'] \n",
    "\n",
    "from Pyfrontier.frontier_model import EnvelopDEA\n",
    "\n",
    "dea_p65_vrs_in = EnvelopDEA(\"VRS\", \"in\")\n",
    "\n",
    "dea_p65_vrs_in.fit(\n",
    "    inputs=p65[p65Input].to_numpy(),\n",
    "    outputs=p65[p65Output].to_numpy()\n",
    ")\n"
   ]
  },
  {
   "cell_type": "code",
   "execution_count": 125,
   "id": "25ccf527-2801-4669-99a7-f16eb0652b23",
   "metadata": {},
   "outputs": [
    {
     "data": {
      "text/plain": [
       "departamento\n",
       "Amazonas         0.954869\n",
       "Ancash           0.983719\n",
       "Apurímac         0.947407\n",
       "Arequipa         0.923281\n",
       "Ayacucho         0.971144\n",
       "Cajamarca        1.000000\n",
       "Callao           1.000000\n",
       "Cusco            0.990195\n",
       "Huancavelica     0.951398\n",
       "Huánuco          0.974999\n",
       "Ica              0.936712\n",
       "Junín            1.000000\n",
       "La Libertad      0.982689\n",
       "Lambayeque       0.992897\n",
       "Lima             0.973458\n",
       "Loreto           0.961973\n",
       "Madre de Dios    1.000000\n",
       "Moquegua         0.913017\n",
       "Pasco            0.916234\n",
       "Piura            1.000000\n",
       "Puno             1.000000\n",
       "San Martín       0.991400\n",
       "Tacna            0.944856\n",
       "Tumbes           1.000000\n",
       "Ucayali          1.000000\n",
       "Name: vrs_in, dtype: float64"
      ]
     },
     "execution_count": 125,
     "metadata": {},
     "output_type": "execute_result"
    }
   ],
   "source": [
    "p65['vrs_in']=[r.score for r in dea_p65_vrs_in.result]\n",
    "p65.set_index(p65.departamento,inplace=True)\n",
    "p65['vrs_in']"
   ]
  },
  {
   "cell_type": "markdown",
   "id": "3fb16703-108b-4a24-85c9-fbd94e309f98",
   "metadata": {},
   "source": [
    "Después de realizar el ejercicio de DEA, se puede observar la eficiencia de los departamentos en el marco del programa social Pensión 65. Como se puede observar, todos los departamentos tienen una eficiencia superior al 90%. Al considerar los inputs y outputs seleccionados para realizar el análisis, es posible afirmar que la eficiencia de los puntos de pagos para atender a los usuarios del programa y el uso del presupuesto en transferencias para los usuarios es alta. Sin embargo, se sabe que el programa tiene varios problemas en el reconocimiento de usuarios, el alcance de los puntos de pago y brindar información a la población atendida. Sería interesante realizar el análisis con información mucho más exacta y extensa acerca de la ejecución e implementación del programa para considerar todos los aspectos que puedan intervenir en la medición de su eficiencia.\n",
    "\n",
    "Por otra parte, en la tabla inferior, no es posible dar una interpretación correcta sobre los resultados. Como puede observarse, no ha sido posible calcular algunos coeficientes para la interpretación del modelo. Probablemente se deba a problemas con la muestra, la colinalidad entre las independientes, entre otros. Se debería observar el error para desarrollar un nuevo modelo que incluya otras variables y expandir la muestra a provincias o distritos, si se obtiene la información"
   ]
  },
  {
   "cell_type": "code",
   "execution_count": 128,
   "id": "11b69ba6-681e-4343-b05a-28a43a74e257",
   "metadata": {},
   "outputs": [
    {
     "name": "stdout",
     "output_type": "stream",
     "text": [
      "Optimization terminated successfully.\n",
      "         Current function value: 0.886631\n",
      "         Iterations: 64\n",
      "         Function evaluations: 115\n"
     ]
    },
    {
     "name": "stderr",
     "output_type": "stream",
     "text": [
      "C:\\Users\\Sistema\\anaconda3\\Lib\\site-packages\\statsmodels\\base\\model.py:595: HessianInversionWarning: Inverting hessian failed, no bse or cov_params available\n",
      "  warnings.warn('Inverting hessian failed, no bse or cov_params '\n"
     ]
    },
    {
     "data": {
      "text/html": [
       "<table class=\"simpletable\">\n",
       "<caption>Tobit Regression Results</caption>\n",
       "<tr>\n",
       "  <th>Dep. Variable:</th>                <td>vrs_in</td>       <th>  Pseudo R-squ:      </th>   <td>1.924</td>  \n",
       "</tr>\n",
       "<tr>\n",
       "  <th>Method:</th>                 <td>Maximum Likelihood</td> <th>  Log-Likelihood:    </th>   <td>-22.2</td>  \n",
       "</tr>\n",
       "<tr>\n",
       "  <th>No. Observations:</th>             <td>    25</td>       <th>  LL-Null:           </th>   <td>24.0</td>   \n",
       "</tr>\n",
       "<tr>\n",
       "  <th>No. Uncensored Obs:</th>             <td>17</td>         <th>  LL-Ratio:          </th>   <td>-92.3</td>  \n",
       "</tr>\n",
       "<tr>\n",
       "  <th>No. Left-censored Obs:</th>           <td>0</td>         <th>  LLR p-value:       </th>   <td>1.000</td>  \n",
       "</tr>\n",
       "<tr>\n",
       "  <th>No. Right-censored Obs:</th>          <td>8</td>         <th>  AIC:               </th>   <td>46.3</td>   \n",
       "</tr>\n",
       "<tr>\n",
       "  <th>Df Residuals:</th>                 <td>    23</td>       <th>  BIC:               </th>   <td>47.6</td>   \n",
       "</tr>\n",
       "<tr>\n",
       "  <th>Df Model:</th>                     <td>     1</td>       <th>  Covariance Type:   </th> <td>nonrobust</td>\n",
       "</tr>\n",
       "</table>\n",
       "<table class=\"simpletable\">\n",
       "<tr>\n",
       "         <td></td>            <th>coef</th>     <th>std err</th>      <th>z</th>      <th>P>|z|</th>  <th>[0.025</th>    <th>0.975]</th>  \n",
       "</tr>\n",
       "<tr>\n",
       "  <th>puntos_pago</th>     <td>    0.0016</td> <td>      nan</td> <td>      nan</td> <td>   nan</td> <td>      nan</td> <td>      nan</td>\n",
       "</tr>\n",
       "<tr>\n",
       "  <th>presupuesto_p65</th> <td> 1.604e-08</td> <td>      nan</td> <td>      nan</td> <td>   nan</td> <td>      nan</td> <td>      nan</td>\n",
       "</tr>\n",
       "<tr>\n",
       "  <th>Log(Sigma)</th>      <td>   -0.4558</td> <td>      nan</td> <td>      nan</td> <td>   nan</td> <td>      nan</td> <td>      nan</td>\n",
       "</tr>\n",
       "</table>"
      ],
      "text/latex": [
       "\\begin{center}\n",
       "\\begin{tabular}{lclc}\n",
       "\\toprule\n",
       "\\textbf{Dep. Variable:}          &      vrs\\_in       & \\textbf{  Pseudo R-squ:      } &   1.924     \\\\\n",
       "\\textbf{Method:}                 & Maximum Likelihood & \\textbf{  Log-Likelihood:    } &   -22.2     \\\\\n",
       "\\textbf{No. Observations:}       &           25       & \\textbf{  LL-Null:           } &    24.0     \\\\\n",
       "\\textbf{No. Uncensored Obs:}     &         17         & \\textbf{  LL-Ratio:          } &   -92.3     \\\\\n",
       "\\textbf{No. Left-censored Obs:}  &         0          & \\textbf{  LLR p-value:       } &   1.000     \\\\\n",
       "\\textbf{No. Right-censored Obs:} &         8          & \\textbf{  AIC:               } &    46.3     \\\\\n",
       "\\textbf{Df Residuals:}           &           23       & \\textbf{  BIC:               } &    47.6     \\\\\n",
       "\\textbf{Df Model:}               &            1       & \\textbf{  Covariance Type:   } & nonrobust   \\\\\n",
       "\\bottomrule\n",
       "\\end{tabular}\n",
       "\\begin{tabular}{lcccccc}\n",
       "                          & \\textbf{coef} & \\textbf{std err} & \\textbf{z} & \\textbf{P$> |$z$|$} & \\textbf{[0.025} & \\textbf{0.975]}  \\\\\n",
       "\\midrule\n",
       "\\textbf{puntos\\_pago}     &       0.0016  &          nan     &       nan  &           nan        &          nan    &          nan     \\\\\n",
       "\\textbf{presupuesto\\_p65} &    1.604e-08  &          nan     &       nan  &           nan        &          nan    &          nan     \\\\\n",
       "\\textbf{Log(Sigma)}       &      -0.4558  &          nan     &       nan  &           nan        &          nan    &          nan     \\\\\n",
       "\\bottomrule\n",
       "\\end{tabular}\n",
       "%\\caption{Tobit Regression Results}\n",
       "\\end{center}"
      ],
      "text/plain": [
       "<class 'statsmodels.iolib.summary.Summary'>\n",
       "\"\"\"\n",
       "                              Tobit Regression Results                             \n",
       "===================================================================================\n",
       "Dep. Variable:                      vrs_in   Pseudo R-squ:                    1.924\n",
       "Method:                 Maximum Likelihood   Log-Likelihood:                  -22.2\n",
       "No. Observations:                       25   LL-Null:                          24.0\n",
       "No. Uncensored Obs:                     17   LL-Ratio:                        -92.3\n",
       "No. Left-censored Obs:                   0   LLR p-value:                     1.000\n",
       "No. Right-censored Obs:                  8   AIC:                              46.3\n",
       "Df Residuals:                           23   BIC:                              47.6\n",
       "Df Model:                                1   Covariance Type:             nonrobust\n",
       "===================================================================================\n",
       "                      coef    std err          z      P>|z|      [0.025      0.975]\n",
       "-----------------------------------------------------------------------------------\n",
       "puntos_pago         0.0016        nan        nan        nan         nan         nan\n",
       "presupuesto_p65  1.604e-08        nan        nan        nan         nan         nan\n",
       "Log(Sigma)         -0.4558        nan        nan        nan         nan         nan\n",
       "===================================================================================\n",
       "\"\"\""
      ]
     },
     "execution_count": 128,
     "metadata": {},
     "output_type": "execute_result"
    }
   ],
   "source": [
    "import numpy as np\n",
    "from py4etrics import tobit\n",
    "\n",
    "# Definir la variable censurada en base a vrs_in\n",
    "p65['censored'] = np.where(p65['vrs_in'] == 1, 1, 0)\n",
    "\n",
    "# Variables censurada, dependiente e independientes\n",
    "cens = p65['censored']\n",
    "endog = p65['vrs_in']  # Variable dependiente\n",
    "exog = p65[['puntos_pago', 'presupuesto_p65']]  # Variables independientes (ajustadas a tus datos)\n",
    "\n",
    "# Aplicar la regresión Tobit\n",
    "tobit_res = tobit.Tobit(endog, exog, cens, right=1).fit()\n",
    "\n",
    "# Mostrar resumen de resultados\n",
    "tobit_res.summary()"
   ]
  },
  {
   "cell_type": "code",
   "execution_count": null,
   "id": "4feb9ad1-4cf1-4ca7-a89e-1ead8b4c77a4",
   "metadata": {},
   "outputs": [],
   "source": []
  }
 ],
 "metadata": {
  "kernelspec": {
   "display_name": "Python 3 (ipykernel)",
   "language": "python",
   "name": "python3"
  },
  "language_info": {
   "codemirror_mode": {
    "name": "ipython",
    "version": 3
   },
   "file_extension": ".py",
   "mimetype": "text/x-python",
   "name": "python",
   "nbconvert_exporter": "python",
   "pygments_lexer": "ipython3",
   "version": "3.12.3"
  }
 },
 "nbformat": 4,
 "nbformat_minor": 5
}
